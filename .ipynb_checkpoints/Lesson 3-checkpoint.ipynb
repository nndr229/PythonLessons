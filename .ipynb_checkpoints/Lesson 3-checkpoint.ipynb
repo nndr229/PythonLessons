{
 "cells": [
  {
   "cell_type": "markdown",
   "metadata": {},
   "source": [
    "# Classes"
   ]
  },
  {
   "cell_type": "code",
   "execution_count": 13,
   "metadata": {},
   "outputs": [
    {
     "name": "stdout",
     "output_type": "stream",
     "text": [
      "Hi I am Nithin whose age is 27 and gender is Male\n",
      "Nithin is eating Burger and drinking Cola\n",
      "I have eaten 0 times today\n"
     ]
    }
   ],
   "source": [
    "# Refer online as to what OOP is. Define a class which is a blueprint for future objects...\n",
    "\n",
    "class Person:\n",
    "    def __init__(self,name,age,gender):\n",
    "        self.name = name\n",
    "        self.age = age\n",
    "        self.gender = gender\n",
    "        self.times = 0\n",
    "    \n",
    "    def __repr__(self):\n",
    "        return f\"Hi I am {self.name} whose age is {self.age} and gender is {self.gender}\"\n",
    "        \n",
    "    def eat(self,food,drink):\n",
    "        print(f\"{self.name} is eating {food} and drinking {drink}\")\n",
    "        print(f\"I have eaten {self.times} times today\")\n",
    "\n",
    "nithin = Person(\"Nithin\", 27 , \"Male\")\n",
    "print(repr(nithin))\n",
    "nithin.eat(\"Burger\",\"Cola\")"
   ]
  },
  {
   "cell_type": "markdown",
   "metadata": {},
   "source": [
    "### ASSIGNMENT : CREATE YOUR OWN PERSON OBJECT "
   ]
  },
  {
   "cell_type": "markdown",
   "metadata": {},
   "source": [
    "# Project : CREATE YOUR OWN ANIMAL CLASS"
   ]
  },
  {
   "cell_type": "code",
   "execution_count": null,
   "metadata": {},
   "outputs": [],
   "source": []
  },
  {
   "cell_type": "markdown",
   "metadata": {},
   "source": [
    "# INHERITANCE "
   ]
  },
  {
   "cell_type": "code",
   "execution_count": 26,
   "metadata": {},
   "outputs": [
    {
     "name": "stdout",
     "output_type": "stream",
     "text": [
      "Hi I am Manju and I teach the following subjects :: FEM Cooking Punctuality \n",
      "Manju is eating Malsala Dosa and drinking Carrot Juice\n",
      "I have eaten 0 times today\n"
     ]
    }
   ],
   "source": [
    "#Teacher inherites from super class Persom and uses Persom methods...\n",
    "class Teacher(Person):\n",
    "    def __init__(self,name,age,gender,subjects,num_classes):\n",
    "        super().__init__(name,age,gender)\n",
    "        self.subjects = subjects\n",
    "        self.num_classes = num_classes\n",
    "    \n",
    "    def __repr__(self):\n",
    "        return f\"Hi I am {self.name} and I teach the following subjects :: {self.subjects__()}\"\n",
    "    \n",
    "    def subjects__(self):\n",
    "        out_str = \"\"\n",
    "        for sub in self.subjects:\n",
    "             out_str += sub + \" \"\n",
    "        return out_str\n",
    "            \n",
    "manju = Teacher(\"Manju\",56,\"Female\",[\"FEM\",\"Cooking\",\"Punctuality\"],3)\n",
    "print(repr(manju))\n",
    "manju.eat(\"Malsala Dosa\",\"Carrot Juice\")"
   ]
  }
 ],
 "metadata": {
  "kernelspec": {
   "display_name": "Python 3.8.5 64-bit ('base': conda)",
   "language": "python",
   "name": "python385jvsc74a57bd0edd02b6585e0e08a787d87105b48f6d730a838926c40a6509d2b25cd0252cc13"
  },
  "language_info": {
   "codemirror_mode": {
    "name": "ipython",
    "version": 3
   },
   "file_extension": ".py",
   "mimetype": "text/x-python",
   "name": "python",
   "nbconvert_exporter": "python",
   "pygments_lexer": "ipython3",
   "version": "3.8.5"
  }
 },
 "nbformat": 4,
 "nbformat_minor": 4
}
