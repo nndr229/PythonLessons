{
 "cells": [
  {
   "cell_type": "markdown",
   "metadata": {},
   "source": [
    "# Hello World"
   ]
  },
  {
   "cell_type": "code",
   "execution_count": 1,
   "metadata": {},
   "outputs": [
    {
     "name": "stdout",
     "output_type": "stream",
     "text": [
      "Hello World!\n"
     ]
    }
   ],
   "source": [
    "#Format of print statement in python3\n",
    "print(\"Hello World!\")"
   ]
  },
  {
   "cell_type": "markdown",
   "metadata": {},
   "source": [
    "## Variables"
   ]
  },
  {
   "cell_type": "code",
   "execution_count": 2,
   "metadata": {},
   "outputs": [],
   "source": [
    "#integer\n",
    "var_1 = 10\n",
    "#float\n",
    "var_2 = 10.3\n",
    "#string\n",
    "var_3 = \"I like fried chicken\"\n",
    "#boolean\n",
    "var_4 = True"
   ]
  },
  {
   "cell_type": "markdown",
   "metadata": {},
   "source": [
    "## Conditionals"
   ]
  },
  {
   "cell_type": "code",
   "execution_count": 4,
   "metadata": {},
   "outputs": [
    {
     "name": "stdout",
     "output_type": "stream",
     "text": [
      "I love Cheese\n"
     ]
    }
   ],
   "source": [
    "#if elif else\n",
    "\n",
    "variable = \"Cheese\"\n",
    "\n",
    "#if condition is true execute statement else if condition is true exec. everything else exec.\n",
    "\n",
    "if variable == \"Noodles\":\n",
    "    print(\"I love Noodles\")\n",
    "elif variable == \"Cheese\":\n",
    "    print(f\"I love {variable}\")\n",
    "else:\n",
    "    print(\"I love all kinds of food!\")"
   ]
  },
  {
   "cell_type": "markdown",
   "metadata": {},
   "source": [
    "## Lists"
   ]
  },
  {
   "cell_type": "code",
   "execution_count": 12,
   "metadata": {},
   "outputs": [
    {
     "name": "stdout",
     "output_type": "stream",
     "text": [
      "Let's see what the whole of list 'a' contains!\n",
      "[1, 2, 3, 4, 5, 6, 7]\n",
      "\n",
      "List methods like append\n",
      "\n",
      "len method of lists\n",
      "8\n",
      "\n",
      "Let's see what list a contains\n",
      "[1, 2, 3, 4, 5, 6, 7, 'LOL!']\n"
     ]
    }
   ],
   "source": [
    "# a is a list of numbers, python lists can hold any type of data\n",
    "a = [1,2,3,4,5,6,7]\n",
    "print(\"Let's see what the whole of list 'a' contains!\")\n",
    "print(a)\n",
    "print()\n",
    "print(\"List methods like append\")\n",
    "a.append(\"LOL!\")\n",
    "print()\n",
    "print(\"len method of lists\")\n",
    "print(len(a))\n",
    "print()\n",
    "print(\"Let's see what list a contains\")\n",
    "print(a)"
   ]
  },
  {
   "cell_type": "markdown",
   "metadata": {},
   "source": [
    "## Looping"
   ]
  },
  {
   "cell_type": "code",
   "execution_count": 13,
   "metadata": {},
   "outputs": [
    {
     "name": "stdout",
     "output_type": "stream",
     "text": [
      "Mango\n",
      "Burger\n",
      "Pizza\n",
      "\n",
      "2\n",
      "4\n",
      "6\n",
      "8\n",
      "10\n"
     ]
    }
   ],
   "source": [
    "# for each loop\n",
    "foods = [\"Mango\",\"Burger\",\"Pizza\"]\n",
    "\n",
    "#for each item given varible name of that item is food print food\n",
    "for food in foods:\n",
    "    print(food)\n",
    "print() \n",
    "\n",
    "#another for loop\n",
    "evens = [2,4,6,8,10]\n",
    "for i in range(len(evens)):\n",
    "    print(evens[i])"
   ]
  },
  {
   "cell_type": "code",
   "execution_count": 21,
   "metadata": {},
   "outputs": [
    {
     "name": "stdout",
     "output_type": "stream",
     "text": [
      "1, even, 3, even, 5, even, 7, even, 9, "
     ]
    }
   ],
   "source": [
    "#for loop with conditional \n",
    "odds = [1,2,3,4,5,6,7,8,9]\n",
    "\n",
    "for num in odds:\n",
    "    if num % 2 != 0:\n",
    "        print(f\"{num},\",end=\" \") #print statement wihtout newline\n",
    "    else:\n",
    "        print(\"even,\",end=\" \")"
   ]
  },
  {
   "cell_type": "markdown",
   "metadata": {},
   "source": [
    "## Functions"
   ]
  },
  {
   "cell_type": "code",
   "execution_count": 22,
   "metadata": {},
   "outputs": [
    {
     "name": "stdout",
     "output_type": "stream",
     "text": [
      "True\n",
      "False\n"
     ]
    }
   ],
   "source": [
    "def is_all_even(arr):\n",
    "    count = 0\n",
    "    for num in arr:\n",
    "        if num % 2 == 0:\n",
    "            count += 1\n",
    "    if count == len(arr):\n",
    "        return True\n",
    "    else:\n",
    "        return False\n",
    "\n",
    "print(is_all_even([2,4,8]))\n",
    "print(is_all_even([1,2,4,8]))"
   ]
  },
  {
   "cell_type": "markdown",
   "metadata": {},
   "source": [
    "### Project : make a rock paper scissors game. Use while loop and input() method"
   ]
  },
  {
   "cell_type": "code",
   "execution_count": 1,
   "metadata": {},
   "outputs": [
    {
     "name": "stdout",
     "output_type": "stream",
     "text": [
      "Choose either Rock,Paper or Scissors!\n",
      "Please Type here : Rock\n",
      "Rock\n",
      "You Lost!! The computer chose Paper\n",
      "Play again ? \n",
      "Y/N : N\n",
      "BYE!\n"
     ]
    }
   ],
   "source": [
    "import random \n",
    "\n",
    "def rock_paper_scissors():\n",
    "    npc_choices = [\"Rock\",\"Paper\",\"Scissors\"]\n",
    "    \n",
    "    while True:\n",
    "        print(\"Choose either Rock,Paper or Scissors!\")\n",
    "        inp = input(\"Please Type here : \")\n",
    "        victory_msg = \"YOU WON!!!\"\n",
    "        print(inp)\n",
    "        if inp not in [\"Rock\",\"Paper\",\"Scissors\"]:\n",
    "            print(\"Wrong input!!!\")\n",
    "            rock_paper_scissors()\n",
    "        else:\n",
    "            npc_choice = random.choice(npc_choices)\n",
    "            if npc_choice == \"Rock\" and inp == \"Paper\":\n",
    "                print(victory_msg)\n",
    "            elif npc_choice == \"Paper\" and inp == \"Scissors\":\n",
    "                print(victory_msg)\n",
    "            elif npc_choice == \"Scissors\" and inp == \"Paper\":\n",
    "                print(victory_msg)\n",
    "            else:\n",
    "                print(f\"You Lost!! The computer chose {npc_choice}\")\n",
    "                print(\"Play again ? \")\n",
    "                exit = input(\"Y/N : \")\n",
    "                if exit == \"N\":\n",
    "                    print(\"BYE!\")\n",
    "                    return \n",
    "                else:\n",
    "                    rock_paper_scissors()       \n",
    "\n",
    "rock_paper_scissors()"
   ]
  },
  {
   "cell_type": "markdown",
   "metadata": {},
   "source": [
    "# END"
   ]
  }
 ],
 "metadata": {
  "kernelspec": {
   "display_name": "Python 3.8.5 64-bit ('base': conda)",
   "language": "python",
   "name": "python385jvsc74a57bd0edd02b6585e0e08a787d87105b48f6d730a838926c40a6509d2b25cd0252cc13"
  },
  "language_info": {
   "codemirror_mode": {
    "name": "ipython",
    "version": 3
   },
   "file_extension": ".py",
   "mimetype": "text/x-python",
   "name": "python",
   "nbconvert_exporter": "python",
   "pygments_lexer": "ipython3",
   "version": "3.8.5"
  }
 },
 "nbformat": 4,
 "nbformat_minor": 4
}
