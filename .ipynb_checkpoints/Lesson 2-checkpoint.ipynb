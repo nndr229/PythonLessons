{
 "cells": [
  {
   "cell_type": "markdown",
   "metadata": {},
   "source": [
    "# List Comprehension  "
   ]
  },
  {
   "cell_type": "code",
   "execution_count": 2,
   "metadata": {},
   "outputs": [
    {
     "name": "stdout",
     "output_type": "stream",
     "text": [
      "[12, 14, 16]\n"
     ]
    }
   ],
   "source": [
    "# List comprehension returns a list after manipulating the elements of a list in a user defined way\n",
    "\n",
    "nums = [1,2,3,4,5,6]\n",
    "\n",
    "evens_plus_10 = [num+10 for num in nums if num%2==0]\n",
    "print(evens_plus_10)"
   ]
  },
  {
   "cell_type": "markdown",
   "metadata": {},
   "source": [
    "# List slicing [: : :] "
   ]
  },
  {
   "cell_type": "code",
   "execution_count": 6,
   "metadata": {},
   "outputs": [
    {
     "name": "stdout",
     "output_type": "stream",
     "text": [
      "[2, 3, 4, 5, 5, 6, 7, 77, 8, 0]\n",
      "[3, 4, 5, 5]\n",
      "[0, 8, 77, 7, 6, 5, 5, 4, 3, 2, 1]\n"
     ]
    }
   ],
   "source": [
    "#Returns a slice of the list defined using indices\n",
    "\n",
    "original_list = [1,2,3,4,5,5,6,7,77,8,0]\n",
    "\n",
    "#from index 1 to end\n",
    "print(original_list[1::])\n",
    "\n",
    "#from index 2 to 5\n",
    "print(original_list[2:6])\n",
    "\n",
    "#List reversal \n",
    "print(original_list[::-1])"
   ]
  },
  {
   "cell_type": "markdown",
   "metadata": {},
   "source": [
    "# Recursion "
   ]
  },
  {
   "cell_type": "code",
   "execution_count": 9,
   "metadata": {},
   "outputs": [
    {
     "name": "stdout",
     "output_type": "stream",
     "text": [
      "The GCD of 10 and 4 is 2\n"
     ]
    }
   ],
   "source": [
    "# Repetitive process of a function calling itself or another classes\n",
    "\n",
    "#EUCLIDEAN GCD\n",
    "#This algorithm is simply beautiful\n",
    "\n",
    "def Euclid_GCD(num_1,num_2):\n",
    "    if num_1 % num_2 == 0:\n",
    "        return num_2\n",
    "    return Euclid_GCD(num_2,num_1%num_2)\n",
    "\n",
    "num_1 = 10\n",
    "num_2 = 4\n",
    "print(f\"The GCD of {num_1} and {num_2} is {Euclid_GCD(num_1,num_2)}\")\n",
    "\n",
    "# Execute the code here to visualise the call stack http://pythontutor.com/visualize.html#mode=display"
   ]
  },
  {
   "cell_type": "markdown",
   "metadata": {},
   "source": [
    "# Project 2 : Write the recursive function for Factorial and Fibonacci "
   ]
  },
  {
   "cell_type": "markdown",
   "metadata": {},
   "source": [
    "### <span style=\"color:green\">Solution</span> "
   ]
  },
  {
   "cell_type": "code",
   "execution_count": 12,
   "metadata": {},
   "outputs": [
    {
     "name": "stdout",
     "output_type": "stream",
     "text": [
      "The factorial of 4 is : 24\n"
     ]
    }
   ],
   "source": [
    "def fact(num):\n",
    "    if num < 1:\n",
    "        return 1\n",
    "    return num * fact(num-1)\n",
    "\n",
    "num_3 = 4\n",
    "print(f\"The factorial of {num_3} is : {fact(num_3)}\")"
   ]
  },
  {
   "cell_type": "code",
   "execution_count": 15,
   "metadata": {},
   "outputs": [
    {
     "name": "stdout",
     "output_type": "stream",
     "text": [
      "The 5th fibonacci number is 8.\n"
     ]
    }
   ],
   "source": [
    "def fib(nth):\n",
    "    if nth<=1:\n",
    "        return 1\n",
    "    return fib(nth-1) + fib(nth-2)\n",
    "\n",
    "nth = 5 \n",
    "print(f\"The {nth}th fibonacci number is {fib(nth)}.\")"
   ]
  },
  {
   "cell_type": "markdown",
   "metadata": {},
   "source": [
    "# END "
   ]
  }
 ],
 "metadata": {
  "kernelspec": {
   "display_name": "Python 3.8.5 64-bit ('base': conda)",
   "language": "python",
   "name": "python385jvsc74a57bd0edd02b6585e0e08a787d87105b48f6d730a838926c40a6509d2b25cd0252cc13"
  },
  "language_info": {
   "codemirror_mode": {
    "name": "ipython",
    "version": 3
   },
   "file_extension": ".py",
   "mimetype": "text/x-python",
   "name": "python",
   "nbconvert_exporter": "python",
   "pygments_lexer": "ipython3",
   "version": "3.8.5"
  }
 },
 "nbformat": 4,
 "nbformat_minor": 4
}
